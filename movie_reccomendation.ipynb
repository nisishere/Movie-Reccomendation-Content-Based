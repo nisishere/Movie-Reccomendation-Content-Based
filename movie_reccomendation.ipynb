{
  "nbformat": 4,
  "nbformat_minor": 0,
  "metadata": {
    "colab": {
      "name": "movie_reccomendation.ipynb",
      "provenance": [],
      "toc_visible": true
    },
    "kernelspec": {
      "name": "python3",
      "display_name": "Python 3"
    },
    "language_info": {
      "name": "python"
    }
  },
  "cells": [
    {
      "cell_type": "code",
      "metadata": {
        "colab": {
          "base_uri": "https://localhost:8080/"
        },
        "id": "QPCoy5fQjcQR",
        "outputId": "3d197478-0c88-4d61-fbcb-cdcd03935b14"
      },
      "source": [
        "%cd /content/drive/MyDrive/Movie reccomendation"
      ],
      "execution_count": null,
      "outputs": [
        {
          "output_type": "stream",
          "text": [
            "/content/drive/MyDrive/Movie reccomendation\n"
          ],
          "name": "stdout"
        }
      ]
    },
    {
      "cell_type": "code",
      "metadata": {
        "id": "6Dtul_pli26P"
      },
      "source": [
        "import pandas as pd\n",
        "import numpy as np\n",
        "from sklearn.feature_extraction.text import CountVectorizer\n",
        "from sklearn.metrics.pairwise import cosine_similarity"
      ],
      "execution_count": null,
      "outputs": []
    },
    {
      "cell_type": "code",
      "metadata": {
        "id": "x4hQpl_LjlTL"
      },
      "source": [
        "def get_title_from_index(index):\n",
        "\treturn df[df.index == index][\"title\"].values[0]"
      ],
      "execution_count": null,
      "outputs": []
    },
    {
      "cell_type": "code",
      "metadata": {
        "id": "phw7b_ZFjqQa"
      },
      "source": [
        "def get_index_from_title(title):\n",
        "\treturn df[df.title == title][\"index\"].values[0]"
      ],
      "execution_count": null,
      "outputs": []
    },
    {
      "cell_type": "markdown",
      "metadata": {
        "id": "1LuTSL0Yj2yC"
      },
      "source": [
        "read csv"
      ]
    },
    {
      "cell_type": "code",
      "metadata": {
        "colab": {
          "base_uri": "https://localhost:8080/"
        },
        "id": "RhCAdB8xj1ml",
        "outputId": "a5803303-e019-46d0-d958-3119fbd07aa1"
      },
      "source": [
        "df= pd.read_csv(\"movie_dataset.csv\")\n",
        "print(df.head())"
      ],
      "execution_count": null,
      "outputs": [
        {
          "output_type": "stream",
          "text": [
            "   index  ...           director\n",
            "0      0  ...      James Cameron\n",
            "1      1  ...     Gore Verbinski\n",
            "2      2  ...         Sam Mendes\n",
            "3      3  ...  Christopher Nolan\n",
            "4      4  ...     Andrew Stanton\n",
            "\n",
            "[5 rows x 24 columns]\n"
          ],
          "name": "stdout"
        }
      ]
    },
    {
      "cell_type": "markdown",
      "metadata": {
        "id": "4DsiQ-9zlGox"
      },
      "source": [
        "select features"
      ]
    },
    {
      "cell_type": "code",
      "metadata": {
        "id": "o0EnCcL8lIec"
      },
      "source": [
        "features=['keywords','cast','genres','director']"
      ],
      "execution_count": null,
      "outputs": []
    },
    {
      "cell_type": "markdown",
      "metadata": {
        "id": "84HmJVf_lkFL"
      },
      "source": [
        "create a coloumn in DF that combines all the selected features"
      ]
    },
    {
      "cell_type": "code",
      "metadata": {
        "id": "gLFkwEsApml-"
      },
      "source": [
        "for feature in features:\n",
        "  df[feature]=df[feature].fillna(\" \")"
      ],
      "execution_count": null,
      "outputs": []
    },
    {
      "cell_type": "code",
      "metadata": {
        "id": "ULGj823BlwbV"
      },
      "source": [
        "def combine_feature(row):\n",
        "  \n",
        "   return row['keywords']+\" \"+ row['cast']+ \" \"+ row['genres'] + row['director'] \n",
        "  "
      ],
      "execution_count": null,
      "outputs": []
    },
    {
      "cell_type": "code",
      "metadata": {
        "id": "nrcg6qlsnjVj"
      },
      "source": [
        "df['combined_feature']= df.apply(combine_feature,axis=1)\n"
      ],
      "execution_count": null,
      "outputs": []
    },
    {
      "cell_type": "markdown",
      "metadata": {
        "id": "iyEAlc3Xq6Hp"
      },
      "source": [
        "create count matrix from this new combined feature"
      ]
    },
    {
      "cell_type": "code",
      "metadata": {
        "id": "v08FdEdGrA-1"
      },
      "source": [
        "cv= CountVectorizer()\n",
        "count_matrix= cv.fit_transform(df['combined_feature'])"
      ],
      "execution_count": null,
      "outputs": []
    },
    {
      "cell_type": "markdown",
      "metadata": {
        "id": "3I99r7APrgZL"
      },
      "source": [
        "compute cosine similarity"
      ]
    },
    {
      "cell_type": "code",
      "metadata": {
        "id": "lxlOfGfPrjMu"
      },
      "source": [
        "cosine_sim = cosine_similarity(count_matrix)"
      ],
      "execution_count": null,
      "outputs": []
    },
    {
      "cell_type": "code",
      "metadata": {
        "id": "CWKR5PPhtP7l"
      },
      "source": [
        "movie_like= \"Titanic\"\n",
        "movie_index= get_index_from_title(movie_like)\n",
        "\n",
        "similar_movies= list(enumerate(cosine_sim[movie_index]))"
      ],
      "execution_count": null,
      "outputs": []
    },
    {
      "cell_type": "markdown",
      "metadata": {
        "id": "idiwghMyuoqv"
      },
      "source": [
        "get the list of similar movies in descending order"
      ]
    },
    {
      "cell_type": "code",
      "metadata": {
        "id": "ioXX7-ZZuwmF"
      },
      "source": [
        "sorted_list = sorted(similar_movies,key= lambda x:x[1],reverse=True)\n"
      ],
      "execution_count": null,
      "outputs": []
    },
    {
      "cell_type": "markdown",
      "metadata": {
        "id": "cvAVWaW9vZIY"
      },
      "source": [
        "print titles of first 50 movies"
      ]
    },
    {
      "cell_type": "code",
      "metadata": {
        "colab": {
          "base_uri": "https://localhost:8080/"
        },
        "id": "TQF83vlkvckV",
        "outputId": "00ea042f-4934-43b1-8738-ab96c24c199f"
      },
      "source": [
        "i=0\n",
        "for movie in sorted_list:\n",
        "  print(get_title_from_index(movie[0]))\n",
        "  i=i+1\n",
        "  if i>50:\n",
        "    break"
      ],
      "execution_count": null,
      "outputs": [
        {
          "output_type": "stream",
          "text": [
            "Titanic\n",
            "Me You and Five Bucks\n",
            "Revolutionary Road\n",
            "The Day the Earth Stood Still\n",
            "Almost Famous\n",
            "Gangs of New York\n",
            "The Beach\n",
            "The Bridge of San Luis Rey\n",
            "Cheri\n",
            "Little Black Book\n",
            "The Aviator\n",
            "Heavenly Creatures\n",
            "Django Unchained\n",
            "The Wolf of Wall Street\n",
            "The Departed\n",
            "J. Edgar\n",
            "The Great Gatsby\n",
            "All the King's Men\n",
            "The Life of David Gale\n",
            "The Reader\n",
            "Celebrity\n",
            "Flushed Away\n",
            "Blood Diamond\n",
            "Eternal Sunshine of the Spotless Mind\n",
            "Wonderland\n",
            "The Holiday\n",
            "Shutter Island\n",
            "Ever After: A Cinderella Story\n",
            "Sense and Sensibility\n",
            "Little Children\n",
            "Vanilla Sky\n",
            "Primary Colors\n",
            "Contagion\n",
            "Catch Me If You Can\n",
            "About Schmidt\n",
            "When Harry Met Sally...\n",
            "Valley of the Wolves: Iraq\n",
            "Body of Lies\n",
            "Laws of Attraction\n",
            "Steve Jobs\n",
            "Shortbus\n",
            "Your Sister's Sister\n",
            "Boynton Beach Club\n",
            "In the Valley of Elah\n",
            "What's Eating Gilbert Grape\n",
            "Fido\n",
            "The Host\n",
            "Iris\n",
            "Tammy\n",
            "Flying By\n",
            "August\n"
          ],
          "name": "stdout"
        }
      ]
    }
  ]
}